{
  "nbformat": 4,
  "nbformat_minor": 0,
  "metadata": {
    "colab": {
      "provenance": [],
      "authorship_tag": "ABX9TyMjiJpQUjMKV+zRzB7Cb4Ir",
      "include_colab_link": true
    },
    "kernelspec": {
      "name": "python3",
      "display_name": "Python 3"
    },
    "language_info": {
      "name": "python"
    }
  },
  "cells": [
    {
      "cell_type": "markdown",
      "metadata": {
        "id": "view-in-github",
        "colab_type": "text"
      },
      "source": [
        "<a href=\"https://colab.research.google.com/github/RogShotz/CSC-482-Project/blob/model-testing/CSC482_Project_Geneology_Extractor.ipynb\" target=\"_parent\"><img src=\"https://colab.research.google.com/assets/colab-badge.svg\" alt=\"Open In Colab\"/></a>"
      ]
    },
    {
      "cell_type": "markdown",
      "source": [
        "**Geneology Extractor**\n",
        "\n",
        "---\n",
        "\n",
        "Here we go I guess. Here's some wiki stuff for extracting articles."
      ],
      "metadata": {
        "id": "QMQQKY_UAQH6"
      }
    },
    {
      "cell_type": "code",
      "source": [
        "import nltk, csv\n",
        "from nltk import word_tokenize\n",
        "from nltk.corpus import stopwords\n",
        "from nltk.classify import NaiveBayesClassifier\n",
        "from sklearn.model_selection import train_test_split\n",
        "from sklearn.metrics import accuracy_score\n",
        "\n",
        "nltk.download('punkt')\n",
        "nltk.download('stopwords')"
      ],
      "metadata": {
        "colab": {
          "base_uri": "https://localhost:8080/"
        },
        "id": "QgbtKSGGDU11",
        "outputId": "e73d5132-a7cd-4f2a-f038-dd82f4a54204"
      },
      "execution_count": 29,
      "outputs": [
        {
          "output_type": "stream",
          "name": "stderr",
          "text": [
            "[nltk_data] Downloading package punkt to /root/nltk_data...\n",
            "[nltk_data]   Package punkt is already up-to-date!\n",
            "[nltk_data] Downloading package stopwords to /root/nltk_data...\n",
            "[nltk_data]   Package stopwords is already up-to-date!\n"
          ]
        },
        {
          "output_type": "execute_result",
          "data": {
            "text/plain": [
              "True"
            ]
          },
          "metadata": {},
          "execution_count": 29
        }
      ]
    },
    {
      "cell_type": "code",
      "source": [
        "#dataset\n",
        "def extract_columns_from_csv(file_path):\n",
        "    texts = []\n",
        "    labels = []\n",
        "\n",
        "    with open(file_path, 'r', newline='', encoding='utf-8') as csvfile:\n",
        "        csv_reader = csv.reader(csvfile, quoting=csv.QUOTE_MINIMAL)\n",
        "        next(csv_reader)  # Skip the header row\n",
        "\n",
        "        for row in csv_reader:\n",
        "            text, label = row\n",
        "            texts.append(text)\n",
        "            labels.append(label)\n",
        "\n",
        "    return texts, labels\n",
        "\n",
        "file_path = '/content/son_not_son.txt'\n",
        "texts, labels = extract_columns_from_csv(file_path)\n",
        "\n",
        "print(\"Text List:\")\n",
        "print(text)\n",
        "print(\"\\nLabels List:\")\n",
        "print(labels)"
      ],
      "metadata": {
        "colab": {
          "base_uri": "https://localhost:8080/"
        },
        "id": "F9Vbnk2qNFGw",
        "outputId": "d30ea676-cd7c-407c-e5c7-0ec4c10d9744"
      },
      "execution_count": 36,
      "outputs": [
        {
          "output_type": "stream",
          "name": "stdout",
          "text": [
            "Text List:\n",
            "['The father spent quality time with his son in the park.', 'The boy played soccer with his friends.', 'She enjoyed reading a book in the evening.', 'The daddy and his son went fishing by the lake.', 'Cooking dinner together is a great bonding activity for the family.', 'Not having a father-son relationship, she explored new hobbies on her own.', 'The son helped his dad fix the car in the garage.', 'She watched a movie with her friends at the cinema.', 'Dad and his child built a birdhouse for their backyard.', 'Playing video games is a favorite pastime for many young boys.', 'The father proudly watched his son graduate from college.', 'She took her son to the amusement park for his birthday celebration.', 'The boy and his father built a model airplane together.', 'After school, they went to the library to study together.', 'Not having a son, she focused on her career and personal growth.', 'The father-son duo went on a camping trip in the mountains.', 'They went to the beach and built sandcastles as a family.', 'She taught her child how to ride a bicycle in the neighborhood park.', 'The son surprised his dad with a homemade birthday cake.', 'Attending school events together strengthens the father-son bond.', 'They visited the museum and explored exhibits on history and science.', 'She joined a book club to connect with fellow literature enthusiasts.', \"The father coached his son's soccer team during the weekend matches.\", 'Not having a father, she looked up to her mother as a role model.', 'The boy and his dad fixed a leaky faucet in the kitchen.', 'They went on a road trip, creating lasting memories along the way.', 'Watching a football game together is a cherished tradition for them.', 'The father and son went on a fishing trip, hoping to catch some big fish.', 'She spent the weekend hiking in the mountains with her friends.', \"The son surprised his father with a thoughtful Father's Day gift.\", 'Not having a son, she adopted a puppy to fill her home with joy.', 'The family enjoyed a picnic in the park on a sunny Sunday afternoon.', 'The father-son duo worked on a DIY project in the backyard.', 'She attended a concert with her friends, enjoying live music.', 'The boy and his dad planted a vegetable garden together.', 'Not having a father-son relationship, she excelled in her studies.', 'They volunteered at a local charity event as a family.', 'She spent quality time with her daughter, nurturing their close bond.', 'The son surprised his father with breakfast in bed on his birthday.', 'The father and son went on a stargazing adventure in the countryside.', 'They went on a family vacation to explore new destinations.', 'She joined a dance class to stay active and meet new people.', 'The father taught his son how to ride a skateboard in the driveway.', 'Not having a son, she focused on building strong friendships.', 'The boy and his dad fixed a broken window together at home.', 'They went on a hiking trip, enjoying the beauty of nature.', 'The father-son duo participated in a charity run for a good cause.', 'She spent the afternoon painting in her art studio.', 'The son surprised his father with tickets to a sports game.', 'Not having a father, she found support and guidance from her mentors.']\n",
            "\n",
            "Labels List:\n",
            "['son', 'not_son', 'not_son', 'son', 'not_son', 'not_son', 'son', 'not_son', 'son', 'not_son', 'son', 'son', 'son', 'not_son', 'not_son', 'son', 'not_son', 'son', 'son', 'son', 'not_son', 'not_son', 'son', 'not_son', 'son', 'son', 'not_son', 'son', 'not_son', 'son', 'not_son', 'not_son', 'son', 'not_son', 'son', 'not_son', 'not_son', 'not_son', 'son', 'son', 'not_son', 'not_son', 'son', 'not_son', 'son', 'not_son', 'son', 'not_son', 'son', 'not_son']\n"
          ]
        }
      ]
    },
    {
      "cell_type": "code",
      "source": [
        "# Tokenize and preprocess text data\n",
        "def preprocess_text(text):\n",
        "    words = word_tokenize(text.lower())  # Tokenize and convert to lowercase\n",
        "    words = [word for word in words if word.isalnum()]  # Remove non-alphanumeric characters\n",
        "    words = [word for word in words if word not in stopwords.words('english')]  # Remove stopwords\n",
        "    return dict([(word, True) for word in words])\n"
      ],
      "metadata": {
        "id": "MSDItSMdEKpu"
      },
      "execution_count": 37,
      "outputs": []
    },
    {
      "cell_type": "code",
      "source": [
        "# Prepare the labeled data in the required format for NLTK\n",
        "featuresets = [(preprocess_text(text), label) for text, label in zip(texts, labels)]\n",
        "\n",
        "# Split data into training and testing sets\n",
        "train_set, test_set = train_test_split(featuresets, test_size=0.2, random_state=42)\n",
        "\n",
        "# Train the Naive Bayes classifier\n",
        "nb_classifier = NaiveBayesClassifier.train(train_set)\n",
        "\n",
        "for text_features, _ in test_set:\n",
        "    prob_dist = nb_classifier.prob_classify(text_features)\n",
        "    print(f\"Text: {' '.join(text_features.keys())}\")\n",
        "    print(f\"Probability of having 'son' relation: {prob_dist.prob('son')}\")\n",
        "    print(f\"Probability of not having 'son' relation: {prob_dist.prob('not_son')}\")\n",
        "    print(\"------\")"
      ],
      "metadata": {
        "colab": {
          "base_uri": "https://localhost:8080/"
        },
        "id": "3n1JbjQCEX_u",
        "outputId": "5e408a1a-f49a-4582-a818-55a48e0d1c41"
      },
      "execution_count": 38,
      "outputs": [
        {
          "output_type": "stream",
          "name": "stdout",
          "text": [
            "Text: school went library study together\n",
            "Probability of having 'son' relation: 0.7974021244612355\n",
            "Probability of not having 'son' relation: 0.20259787553876438\n",
            "------\n",
            "Text: father son went stargazing adventure countryside\n",
            "Probability of having 'son' relation: 0.9696378270517396\n",
            "Probability of not having 'son' relation: 0.030362172948260074\n",
            "------\n",
            "Text: son adopted puppy fill home joy\n",
            "Probability of having 'son' relation: 0.9432692025629956\n",
            "Probability of not having 'son' relation: 0.05673079743700422\n",
            "------\n",
            "Text: went hiking trip enjoying beauty nature\n",
            "Probability of having 'son' relation: 0.5786324402981782\n",
            "Probability of not having 'son' relation: 0.4213675597018219\n",
            "------\n",
            "Text: taught child ride bicycle neighborhood park\n",
            "Probability of having 'son' relation: 0.9875700538264431\n",
            "Probability of not having 'son' relation: 0.012429946173557414\n",
            "------\n",
            "Text: son surprised father tickets sports game\n",
            "Probability of having 'son' relation: 0.9937763956900101\n",
            "Probability of not having 'son' relation: 0.006223604309989153\n",
            "------\n",
            "Text: watching football game together cherished tradition\n",
            "Probability of having 'son' relation: 0.6990143158882892\n",
            "Probability of not having 'son' relation: 0.30098568411171084\n",
            "------\n",
            "Text: went road trip creating lasting memories along way\n",
            "Probability of having 'son' relation: 0.8940008874040822\n",
            "Probability of not having 'son' relation: 0.10599911259591797\n",
            "------\n",
            "Text: duo worked diy project backyard\n",
            "Probability of having 'son' relation: 0.9475697134004646\n",
            "Probability of not having 'son' relation: 0.05243028659953521\n",
            "------\n",
            "Text: attending school events together strengthens bond\n",
            "Probability of having 'son' relation: 0.48376857239703996\n",
            "Probability of not having 'son' relation: 0.5162314276029601\n",
            "------\n"
          ]
        }
      ]
    }
  ]
}